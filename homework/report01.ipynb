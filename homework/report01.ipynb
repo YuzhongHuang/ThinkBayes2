{
 "cells": [
  {
   "cell_type": "markdown",
   "metadata": {},
   "source": [
    "# Yuzhong's BTP"
   ]
  },
  {
   "cell_type": "markdown",
   "metadata": {
    "collapsed": true
   },
   "source": [
    "### One question that I've worked in the book \"thinkbayes\" is the simple cookie problem:\n",
    "    \n",
    "    Suppose there are two bowls of cookies. Bowl 1 contains 30 vanilla cookies and 10 chocolate cookies. Bowl 2 contains 20 of each. Now suppose you choose one of the bowls at random and, without looking, select a cookie at random. The cookie is vanilla. What is the probability that it came from Bowl 1?\n",
    "    \n",
    "My solution follows. Our hypothesis here is that the cookie come from Bowl 1. The prior probablity of the hypothesis denoted as P(H). The data we have is a vanilla cookie, and the chance that we draw a vanilla cookie from the total is denoted as P(D). We want to know the probability that the cookie is from Bowl 1 given that it is a vanilla cookie, namely P(D|H). \n",
    "\n",
    "According to Bayes theorem, we have\n",
    "\n",
    "    P(H|D) = P(D|H)P(H)/P(D)\n",
    "\n",
    "For P(H), since we choose the bowl at random from 2 bowls, the chance is 1/2; P(D) would be the #vanilla cookies/#total. Therefore, it is 50/80 = 5/8; P(D|H) is the chance that we draw a vanilla cookie from bowl 1, which is 30/40 = 3/4.\n",
    "\n",
    "By substituting the equation with those values, we got:\n",
    "\n",
    "    P(H|D) = (3/4 * 1/2) / (5/8) = 3/5"
   ]
  },
  {
   "cell_type": "markdown",
   "metadata": {},
   "source": [
    "### The second question that I want to work on is one from MacKay's book:\n",
    "\n",
    "    Two people have left traces of their own blood at the scene of a crime. A suspect, Oliver, is tested and found to have type O blood. The blood groups of the two traces are found to be of type O (a common type in the local population, having frequency 60%) and of type AB (a rare type, with frequency 1%). Do these data (the blood types found at the scene) give evidence in favour [sic] of the proposition that Oliver was one of the two people whose blood was found at the scene?\n",
    "    \n",
    "My solution follows. First, we find that there are two hypothesis here:\n",
    "1. Oliver is one of the two persons whose blood was found in the scene of a crime, denoted as H_0.\n",
    "2. Oliver is not one of the two persons whose blood was found in the scene of a crime, denoted as H_1.\n",
    "\n",
    "Given that the data is two person's blood are O type and AB type, we can calculate that \n",
    "\n",
    "    P(D|H_0) = 1*0.01 = 0.01\n",
    "\n",
    "    and\n",
    "\n",
    "    P(D|H_1) = 2*0.01*0.6 = 0.012\n",
    "    \n",
    "It's obivous that P(D|H_0) = 1\\*0.01 since if Oliver accounts for the O type blood, we just need to multiply 1 with the probility of the other person.\n",
    "\n",
    "For P(D|H_1) = 2\\*0.01\\*0.6, the chance that both of the blood comes from general public is 2\\*0.01\\*0.6. The factor 2 accounts for that the two blood samples are not ordered. Also, note that the chance of AB (1%) does not actually used in the calculation.\n",
    "\n",
    "According to our calculation, we can see that P(D|H_1) > P(D|H_0), therefore, the data does not give in favour of the proposition that Oliver was one of the two people whose blood was found at the scence."
   ]
  },
  {
   "cell_type": "markdown",
   "metadata": {},
   "source": [
    "### The third question is a question that created by myself:\n",
    "    \n",
    "    There are two drawers of socks. The first drawer has 40 white socks and 10 black socks; the second drawer has 20 white socks and 30 black socks. We randomly get 2 socks from a drawer, and it turns out to be a pair(same color) but we don't know the color of these socks. What is the chance that we picked the first drawer.\n",
    "    \n",
    "My solution follows. There are two hypothesis:\n",
    "1. The pair comes from the first drawer, denoted as H_1\n",
    "2. The pair comes from the second drawer, denoted as H_2\n",
    "\n",
    "The data here is that the two socks are of the same color.\n",
    "\n",
    "Therefore, P(D|H_1) = (4/5)^2 + (1/5)^2 = 17/25; P(D|H_2) = (2/5)^2 + (3/5)^2 = 13/25. Since the chance of getting a pair from a drawer is equal to the sum of get a pair from each color. Using the table method, we get:\n",
    "\n",
    "    P(H_1|D) = P(D|H_1)/(P(D|H_1)+P(D|H_2)) = (17/25) / (17/25 + 13/25) = 17/30\n",
    "    \n",
    "Therefore, the chance that we picked the first drawer is 17/30."
   ]
  }
 ],
 "metadata": {
  "kernelspec": {
   "display_name": "Python [Root]",
   "language": "python",
   "name": "Python [Root]"
  },
  "language_info": {
   "codemirror_mode": {
    "name": "ipython",
    "version": 2
   },
   "file_extension": ".py",
   "mimetype": "text/x-python",
   "name": "python",
   "nbconvert_exporter": "python",
   "pygments_lexer": "ipython2",
   "version": "2.7.11"
  }
 },
 "nbformat": 4,
 "nbformat_minor": 0
}
