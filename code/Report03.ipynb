{
 "cells": [
  {
   "cell_type": "markdown",
   "metadata": {},
   "source": [
    "# Report 03\n",
    "### Yuzhong Huang"
   ]
  },
  {
   "cell_type": "code",
   "execution_count": 1,
   "metadata": {
    "collapsed": true
   },
   "outputs": [],
   "source": [
    "# imports tools for solving bayes problems\n",
    "\n",
    "from __future__ import print_function, division\n",
    "\n",
    "import numpy as np\n",
    "import math\n",
    "\n",
    "import thinkbayes2\n",
    "from thinkbayes2 import Pmf, Cdf, Suite, Joint\n",
    "import thinkplot\n",
    "\n",
    "% matplotlib inline"
   ]
  },
  {
   "cell_type": "markdown",
   "metadata": {},
   "source": [
    "## The cat problem from ThinkBayes chap05"
   ]
  },
  {
   "cell_type": "markdown",
   "metadata": {},
   "source": [
    "Suppose you are having a dinner party with 10 guests and 4 of them are allergic to cats. Because you have cats, you expect 50% of the allergic guests to sneeze during dinner. At the same time, you expect 10% of the non-allergic guests to sneeze. What is the distribution of the total number of guests who sneeze?"
   ]
  },
  {
   "cell_type": "markdown",
   "metadata": {
    "collapsed": true
   },
   "source": [
    "#### My solution follows"
   ]
  },
  {
   "cell_type": "markdown",
   "metadata": {},
   "source": [
    "The distribution of the total number of guests who sneeze is composed by the distribution of the allergic guests and the non-allegric guests. Therefore, we will first need to compute the distribution of them separately, and then mix the two distributions"
   ]
  },
  {
   "cell_type": "code",
   "execution_count": 17,
   "metadata": {
    "collapsed": false
   },
   "outputs": [],
   "source": [
    "# compute distribution of allergic guests\n",
    "\n",
    "allergic_g = 4\n",
    "p_allergic = 0.5\n",
    "\n",
    "pmf_allergic = thinkbayes2.MakeBinomialPmf(allergic_g, p_allergic)"
   ]
  },
  {
   "cell_type": "code",
   "execution_count": 18,
   "metadata": {
    "collapsed": false
   },
   "outputs": [
    {
     "data": {
      "image/png": "[encoded data removed]",
      "text/plain": [
       "<matplotlib.figure.Figure at 0x7fd7c4b6b450>"
      ]
     },
     "metadata": {},
     "output_type": "display_data"
    }
   ],
   "source": [
    "# compute distribution of non-allergic guests\n",
    "\n",
    "non_g = 6\n",
    "p_non = 0.1\n",
    "\n",
    "pmf_non = thinkbayes2.MakeBinomialPmf(non_g, p_non)\n",
    "thinkplot.Hist(pmf_non)"
   ]
  },
  {
   "cell_type": "code",
   "execution_count": 19,
   "metadata": {
    "collapsed": false
   },
   "outputs": [
    {
     "data": {
      "image/png": "[encoded data removed]",
      "text/plain": [
       "<matplotlib.figure.Figure at 0x7fd7c4d5a050>"
      ]
     },
     "metadata": {},
     "output_type": "display_data"
    }
   ],
   "source": [
    "# Total distribution\n",
    "\n",
    "pmf_total = pmf_allergic + pmf_non\n",
    "thinkplot.Hist(pmf_total)"
   ]
  },
  {
   "cell_type": "markdown",
   "metadata": {},
   "source": [
    "That is a strightforward problem solving. Now let's consider the reverse of that problem. What if the number of people allergic to cat is unknown. And there are 4 persons sneezing during the dinner. What's the distribution of number of allergic people among those guests?"
   ]
  },
  {
   "cell_type": "markdown",
   "metadata": {},
   "source": [
    "To solve that problem, we need to computes the likelihood of having 4 persons sneezed during the dinner under every possible distribution"
   ]
  },
  {
   "cell_type": "code",
   "execution_count": 20,
   "metadata": {
    "collapsed": true
   },
   "outputs": [],
   "source": [
    "# create a list of all the possible pmfs of guest with variable numbers of allegric guests from 0 to 10\n",
    "\n",
    "pmfs = []\n",
    "p_non = 0.1\n",
    "p_allergic = 0.5\n",
    "\n",
    "for allergic_g in range(11):\n",
    "    pmfs.append(thinkbayes2.MakeBinomialPmf(10-allergic_g, p_non) + thinkbayes2.MakeBinomialPmf(allergic_g, p_allergic))"
   ]
  },
  {
   "cell_type": "code",
   "execution_count": 21,
   "metadata": {
    "collapsed": false
   },
   "outputs": [],
   "source": [
    "# then use bayesian inference to generates a list of likelihood\n",
    "\n",
    "likelihoods = [pmf[4] for pmf in pmfs]"
   ]
  },
  {
   "cell_type": "code",
   "execution_count": 22,
   "metadata": {
    "collapsed": false
   },
   "outputs": [
    {
     "data": {
      "image/png": "[encoded data removed]",
      "text/plain": [
       "<matplotlib.figure.Figure at 0x7fd7c7924510>"
      ]
     },
     "metadata": {},
     "output_type": "display_data"
    }
   ],
   "source": [
    "# create a pmf to represents the distribution of likelihoods\n",
    "guest_pmf = Pmf()\n",
    "for i in range(11):\n",
    "    guest_pmf[i] = likelihoods[i]\n",
    "    \n",
    "guest_pmf.Normalize()\n",
    "thinkplot.Hist(guest_pmf)"
   ]
  },
  {
   "cell_type": "markdown",
   "metadata": {},
   "source": [
    "As we can see, the most likely number of allergic people during the dinner is 7."
   ]
  },
  {
   "cell_type": "markdown",
   "metadata": {},
   "source": [
    "## Lincoln index problem from ThinkBayes chap09"
   ]
  },
  {
   "cell_type": "markdown",
   "metadata": {},
   "source": [
    "Note that the question is originally from http://www.johndcook.com/blog/2010/07/13/lincoln-index/\n",
    "\n",
    "\"Suppose you have a tester who finds 20 bugs in your program. You want to estimate how many bugs are really in the program. You know there are at least 20 bugs, and if you have supreme confidence in your tester, you may suppose there are around 20 bugs. But maybe your tester isn't very good. Maybe there are hundreds of bugs. How can you have any idea how many bugs there are? There’s no way to know with one tester. But if you have two testers, you can get a good idea, even if you don’t know how skilled the testers are.\n",
    "Suppose two testers independently search for bugs. Let k1 be the number of errors the first tester finds and k2 the number of errors the second tester finds. Let c be the number of errors both testers find. The Lincoln Index estimates the total number of errors as k1 k2 / c [I changed his notation to be consistent with mine].\"\n",
    "So if the first tester finds 20 bugs, the second finds 15, and they find 3 in common, we estimate that there are about 100 bugs. What is the Bayesian estimate of the number of errors based on this data?"
   ]
  },
  {
   "cell_type": "markdown",
   "metadata": {
    "collapsed": true
   },
   "source": [
    "#### My solution follows"
   ]
  },
  {
   "cell_type": "markdown",
   "metadata": {},
   "source": [
    "Since it is a bayesian inference problem, I will construct a class for Lincoln index problem to represent the hypothesis on how many errors are actually there in the program. Then, we need to consider what is the likelihood of the data given certain hypothesis.\n",
    "\n",
    "Since the data tells us that there are 20 errors found by debuger 1 and 15 found by debuger 2 and there are 3 common errors. The likelihood of that data under hypothesis that there are n errors in total and the chance of debuger are p1 and p2 respectively. The likelihood therefore is the multiplication of chance that debuger 1 found 20 bugs from n errors in total, and the chance that debuger 2 found 15 errors out of n total errors with 3 errors in common with debuger 1."
   ]
  },
  {
   "cell_type": "code",
   "execution_count": 37,
   "metadata": {
    "collapsed": false
   },
   "outputs": [],
   "source": [
    "def binomial(k, n, p):\n",
    "    return p**k * (1-p)**(n-k)\n",
    "\n",
    "def C(n, k):\n",
    "    return math.factorial(n) / (math.factorial(k) * math.factorial(n-k))\n",
    "\n",
    "class Lincoln(Suite, Joint):\n",
    "    \"\"\"Represents hypotheses about the number of errors.\"\"\"\n",
    "\n",
    "    def Likelihood(self, data, hypo):\n",
    "        \"\"\"Computes the likelihood of the data under the hypothesis.\n",
    "\n",
    "        hypo: n, p1, p2\n",
    "        data: k1, k2, c\n",
    "        \"\"\"\n",
    "        n, p1, p2 = hypo\n",
    "        k1, k2, c = data\n",
    "\n",
    "        debuger1 = binomial(k1, n, p1) * C(n, k1)\n",
    "        debuger2 = C(k1, c) * C(n-k1, k2-c) * binomial(k2, n, p2)\n",
    "        return debuger1 * debuger2"
   ]
  },
  {
   "cell_type": "markdown",
   "metadata": {},
   "source": [
    "Now we will use the class we constructed to solve the lincoln index problem. First, our data is 20 errors, 15 erros and 3 common errors. And the possible value of n should be larger than 15 + 20 - 3 = 32. Also the probablity of debuger 1 should be no larger than 20/32 = 0.625; the probablity of debuger 2 should be at most 15/32. Since p1 = 20/n and p2 = 15/n\n",
    "\n",
    "Let's suppose the max value of n here is 700 bugs"
   ]
  },
  {
   "cell_type": "code",
   "execution_count": 41,
   "metadata": {
    "collapsed": false
   },
   "outputs": [
    {
     "data": {
      "text/plain": [
       "0.0007411746273158978"
      ]
     },
     "execution_count": 41,
     "metadata": {},
     "output_type": "execute_result"
    }
   ],
   "source": [
    "data = 20, 15, 3\n",
    "hypos = []\n",
    "for n in range(32, 700):\n",
    "    p1 = data[0] / n\n",
    "    p2 = data[1] / n\n",
    "    hypos.append((n, p1, p2))\n",
    "\n",
    "suite = Lincoln(hypos)\n",
    "suite.Update(data)"
   ]
  },
  {
   "cell_type": "markdown",
   "metadata": {},
   "source": [
    "Now let's plot the pmf to visualize the chance of numbers of bugs given the data"
   ]
  },
  {
   "cell_type": "code",
   "execution_count": 42,
   "metadata": {
    "collapsed": false
   },
   "outputs": [
    {
     "data": {
      "image/png": "[encoded data removed]",
      "text/plain": [
       "<matplotlib.figure.Figure at 0x7fd7c4990910>"
      ]
     },
     "metadata": {},
     "output_type": "display_data"
    }
   ],
   "source": [
    "n_marginal = suite.Marginal(0)\n",
    "thinkplot.Pmf(n_marginal, label='n')\n",
    "thinkplot.Config(xlabel='bugs',\n",
    "                   ylabel='PMF')"
   ]
  },
  {
   "cell_type": "code",
   "execution_count": 44,
   "metadata": {
    "collapsed": false
   },
   "outputs": [
    {
     "name": "stdout",
     "output_type": "stream",
     "text": [
      "post mean n 191.041439361\n",
      "MAP n 95\n"
     ]
    }
   ],
   "source": [
    "print('post mean n', n_marginal.Mean())\n",
    "print('MAP n', n_marginal.MAP())"
   ]
  },
  {
   "cell_type": "markdown",
   "metadata": {},
   "source": [
    "As we can see the most possible n number is 95, which is close to the estimate of k1 * k2 / c. "
   ]
  },
  {
   "cell_type": "markdown",
   "metadata": {},
   "source": [
    "## Original problems"
   ]
  },
  {
   "cell_type": "markdown",
   "metadata": {},
   "source": [
    "There is a frog and a bug in a room. The room is 20 feet by 20 feet. Suppose the coordinate system’s origin is on the lower left corner of the room. And (20, 20) marks the upper right corner of the room. The frog was initially sitting on point (3, 10), and heard some noise of the bug. When the frog moved to (7, 13), the noise appeared to be louder. Then the frog moved from (7,13) to (6, 16). The noise appeared to be weaker. Suppose the bug is not moving. Where could that bug be hiding? "
   ]
  },
  {
   "cell_type": "markdown",
   "metadata": {
    "collapsed": true
   },
   "source": [
    "#### My solution follows"
   ]
  },
  {
   "cell_type": "markdown",
   "metadata": {
    "collapsed": true
   },
   "source": [
    "To solve that problem, I will create a frog_n_bug class to have a distribution of all the possible locations in the room and then visualize their likelihoods.\n",
    "\n",
    "All that we need to determine is the likelihood function. Given a single movement vector from location 1 to location 2. If the hypo position is closer to location 1 than to location 2, we will assign 0 to its probablity since the noise appear larger therefore location 2 should be closer to location 1. On the other hand, if location 2 is closer to the hypo position, we will multiply the probablity by 1 since they are equally possible.\n",
    "\n",
    "Thus I will first need a distance function to help me calculate the distance between points"
   ]
  },
  {
   "cell_type": "code",
   "execution_count": 24,
   "metadata": {
    "collapsed": true
   },
   "outputs": [],
   "source": [
    "def distance(location1, location2):\n",
    "    \"\"\"Computes the distance between two points \n",
    "\n",
    "    location1: coordinate of location1\n",
    "    location2: coordinate of location2\n",
    "\n",
    "    Returns: distance(float)\n",
    "    \"\"\"\n",
    "    return math.sqrt((location1[0]-location2[0])**2 + (location1[1]-location2[1])**2)"
   ]
  },
  {
   "cell_type": "markdown",
   "metadata": {},
   "source": [
    "Then I will build a frog_n_bug class to represents the problem and capture all the possible pairs as hypos"
   ]
  },
  {
   "cell_type": "code",
   "execution_count": 25,
   "metadata": {
    "collapsed": false
   },
   "outputs": [],
   "source": [
    "class frog_n_bug(Suite, Joint):\n",
    "    \"\"\"Represents hypotheses about the location of an opponent.\"\"\"\n",
    "\n",
    "    def __init__(self, xs, ys):\n",
    "        \"\"\"Makes a joint suite of parameters x and y.\n",
    "\n",
    "        Enumerates all possible locations of the bug.\n",
    "\n",
    "        xs: possible values for x\n",
    "        ys: possible values for y\n",
    "        \"\"\"\n",
    "        pairs = [(x, y) \n",
    "                 for x in xs \n",
    "                 for y in ys]\n",
    "        Suite.__init__(self, pairs)\n",
    "\n",
    "    def Likelihood(self, data, hypo):\n",
    "        \"\"\"Computes the likelihood of the data under the hypothesis.\n",
    "\n",
    "        hypo: pair of x, y\n",
    "        data: vectors that move toward the sound source\n",
    "\n",
    "        Returns: float likelihood\n",
    "        \"\"\"\n",
    "        x, y = hypo\n",
    "        prob = 1\n",
    "\n",
    "        l0 = data[0]        \n",
    "        l1 = data[1]\n",
    "        prob *= (distance(l0, (x,y)) > distance(l1, (x,y)))\n",
    "        return prob\n",
    "    \n",
    "xs = range(21)\n",
    "ys = range(21)\n",
    "suite = frog_n_bug(xs, ys)"
   ]
  },
  {
   "cell_type": "markdown",
   "metadata": {},
   "source": [
    "Now let's take the first step from (3, 10) to (7, 13)"
   ]
  },
  {
   "cell_type": "code",
   "execution_count": 26,
   "metadata": {
    "collapsed": false
   },
   "outputs": [
    {
     "data": {
      "image/png": "[encoded data removed]",
      "text/plain": [
       "<matplotlib.figure.Figure at 0x7fd7c4a28290>"
      ]
     },
     "metadata": {},
     "output_type": "display_data"
    }
   ],
   "source": [
    "# update the first step\n",
    "step_1 = [[(3,10),(7,13)]]\n",
    "suite.UpdateSet(step_1)\n",
    "\n",
    "# visualize the probablity\n",
    "thinkplot.Contour(suite.GetDict(), contour=False, pcolor=True)"
   ]
  },
  {
   "cell_type": "markdown",
   "metadata": {},
   "source": [
    "As we can see, after taking the first step, the frog has narrowed down a little bit of its searching area. Now let's go from (7,13) to (6,16). Since the noise got weaker in that step, we are going to reverse their order as input"
   ]
  },
  {
   "cell_type": "code",
   "execution_count": 27,
   "metadata": {
    "collapsed": false
   },
   "outputs": [
    {
     "data": {
      "image/png": "[encoded data removed]",
      "text/plain": [
       "<matplotlib.figure.Figure at 0x7fd7c4a162d0>"
      ]
     },
     "metadata": {},
     "output_type": "display_data"
    }
   ],
   "source": [
    "# update the first step\n",
    "step_2 = [[(6,16),(7,13)]]\n",
    "suite.UpdateSet(step_2)\n",
    "\n",
    "# visualize the probablity\n",
    "thinkplot.Contour(suite.GetDict(), contour=False, pcolor=True)"
   ]
  },
  {
   "cell_type": "markdown",
   "metadata": {},
   "source": [
    "After the second step, the search area further decreased to smaller region. Now let's go from (6, 16) to (8, 19) and see what will happen"
   ]
  },
  {
   "cell_type": "code",
   "execution_count": 29,
   "metadata": {
    "collapsed": false
   },
   "outputs": [
    {
     "data": {
      "image/png": "[encoded data removed]",
      "text/plain": [
       "<matplotlib.figure.Figure at 0x7fd7c48cbc10>"
      ]
     },
     "metadata": {},
     "output_type": "display_data"
    }
   ],
   "source": [
    "# update the first step\n",
    "\n",
    "step_3 = [[(6,16),(8,19)]]\n",
    "suite.UpdateSet(step_3)\n",
    "\n",
    "# visualize the probablity\n",
    "thinkplot.Contour(suite.GetDict(), contour=False, pcolor=True)"
   ]
  },
  {
   "cell_type": "markdown",
   "metadata": {},
   "source": [
    "After the three steps, the search area shrinks down to upper right conner of the room. That's the possible location of the bug"
   ]
  },
  {
   "cell_type": "markdown",
   "metadata": {},
   "source": [
    "## Project progress"
   ]
  },
  {
   "cell_type": "markdown",
   "metadata": {},
   "source": [
    "I’m thinking about a problem when waiting for the Wellesley shuttle near Chapel under the big oak tree. I saw oaks falling from the tree. Imagine that the tree covers a circle of certain radius. Every minute there is an acorn fall down from the tree. And the chance of an acorn will fall at the covered circle can be modeled as a two dimensional normal distribution. What is the chance that I will be hit by an acorn given the position I’m standing, the radius of me and how long I’m standing. I think it will be an interesting question for me to solve for the final project, so that students waiting for wellesley shuttle has a better idea the chance they will get hit by acorns. "
   ]
  }
 ],
 "metadata": {
  "kernelspec": {
   "display_name": "Python [Root]",
   "language": "python",
   "name": "Python [Root]"
  },
  "language_info": {
   "codemirror_mode": {
    "name": "ipython",
    "version": 2
   },
   "file_extension": ".py",
   "mimetype": "text/x-python",
   "name": "python",
   "nbconvert_exporter": "python",
   "pygments_lexer": "ipython2",
   "version": "2.7.11"
  }
 },
 "nbformat": 4,
 "nbformat_minor": 0
}
