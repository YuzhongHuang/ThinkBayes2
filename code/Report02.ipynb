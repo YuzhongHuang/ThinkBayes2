{
 "cells": [
  {
   "cell_type": "markdown",
   "metadata": {},
   "source": [
    "# Report 02\n",
    "### Yuzhong Huang"
   ]
  },
  {
   "cell_type": "markdown",
   "metadata": {},
   "source": [
    "## Quiz problem"
   ]
  },
  {
   "cell_type": "markdown",
   "metadata": {},
   "source": [
    "Two identical twins are members of my chess club, but they never show up on the same day; in fact, they strictly alternate the days they show up.  I can't tell them apart except that one is a better player than the other:  Avery beats me 60% of the time and I beat Blake 70% of the time.  If I play one twin on Monday and win, and the other twin on Tuesday and lose, which twin did I play on which day?"
   ]
  },
  {
   "cell_type": "markdown",
   "metadata": {},
   "source": [
    "#### My solution follows. \n",
    "\n",
    "Since the twins strictly alternate the days they show up and I can't tell them apart. There are two hypothesis here: I played Avery on Monday and Blake on Tuesday; I played Blake on Monday and Avwey on Tuesday. We know that Avery beats me 60% of the time and I beat Blake 70% of the time. Applying the table method, we got:\n",
    "\n",
    "|    | Prior P(H) | Likelihood P(D/H) | P(H)P(D/H) | Posterior P(H/D) |\n",
    "|----|------------|-------------------|------------|------------------|\n",
    "| H1 | 1/2        | (70)(60)          | 4200       | 7/9              |\n",
    "| H2 | 1/2        | (30)(40)          | 1200       | 2/9              |\n",
    "\n",
    "Therefore, I have a chance of (7/9) that I played Blake on Monday and Avwey on Tuesday, and (2/9) that I played Avery on Monday and Blake on Tuesday."
   ]
  },
  {
   "cell_type": "markdown",
   "metadata": {},
   "source": [
    "## Problems from other source"
   ]
  },
  {
   "cell_type": "markdown",
   "metadata": {},
   "source": [
    "Most (80%) of the taxis in Simpletown are green, with the rest (20%) being yellow. In a traffic accident involving a hit-and-run taxi, a witness claims the taxi was yellow. Careful testing shows that the witness can successfully identify the colour of a taxi only 75% of the time due to bad eyesight. On the balance of probabilities, should we hold Yellow Taxi Company liable? (From http://sydney.edu.au/ Comp4044 Course materials)"
   ]
  },
  {
   "cell_type": "markdown",
   "metadata": {},
   "source": [
    "#### My solution follows\n",
    "\n",
    "Since Most (80%) of the taxis in Simpletown are green, with the rest (20%) being yellow. There are two hypothesis in thie problem: The hit-and-run taxi is yellow; the hit-and-run taxi is green. We know that the witness can successfully identify the colour of a taxi only 75% of the time due to bad eyesight. Applying the table method, we got:\n",
    "\n",
    "|    | Prior P(H) | Likelihood P(D/H) | P(H)P(D/H) | Posterior P(H/D) |\n",
    "|----|------------|-------------------|------------|------------------|\n",
    "| H1 | 1/5        | 75                | 15         | 3/7              |\n",
    "| H2 | 4/5        | 25                | 20         | 4/7              |\n",
    "\n",
    "Therefore, it has a chance of (3/7) that the hit-and-run taxi is yellow, and (4/7) that it is green. (This question reminds me of the Oliver's blood problem) "
   ]
  },
  {
   "cell_type": "markdown",
   "metadata": {},
   "source": [
    "## Originaly questions"
   ]
  },
  {
   "cell_type": "markdown",
   "metadata": {},
   "source": [
    "### Type 1\n",
    "\n",
    "There are 3 students in the class: A, B and C. Everyone independently picks a random number between 1 and 10(including both ends). What's the probablity that C's number is between A's and B's(not including both ends)."
   ]
  },
  {
   "cell_type": "markdown",
   "metadata": {},
   "source": [
    "#### My solution follows\n",
    "\n",
    "Since we want to calculate the probablity that C's number is between A's and B's(not including both ends), it is necessary that we first calculate the chance that A's, B's and C's number are different(if there is at least one pair of same number, the condition cannot be achieved). \n",
    "\n",
    "The probablity that their numbers are different is equal to possiblity of combinations of three different numbers divided by the total possible combinations. By doing that, we got:\n",
    "\n",
    "P = (10 \\* 9 \\* 8) / (10 \\* 10 \\* 10) = 0.72\n",
    "\n",
    "Under the condition that it has 0.72 of chance that their numbers are different. We have 6 different possible arrangement of their numbers. Namely:\n",
    "\n",
    "A>B>C; B>A>C; A>C>B; B>C>A; A>C>B; C>A>B; C>B>A;\n",
    "\n",
    "Since the situation are symmetrical here, the chance that C's number is between A's and B's under the condition that their numbers are different is 1/3.Therefore, the probablity that C's number is between A's and B's(not including both ends) is 0.72 * (1/3) = 0.24"
   ]
  },
  {
   "cell_type": "markdown",
   "metadata": {},
   "source": [
    "### Type 2\n",
    "\n",
    "There are two huge buildings of the same type(total number of appartment is the same and large enough). Each appartment in the buildings has only one window. People living there always turn the lights on during the night. By randomly choosing 50 windows, we find that there are 34 windows with lights on building 1; 18 out of 30 on building 2. What's the chance that there are more people in building 1 than in building 2?"
   ]
  },
  {
   "cell_type": "markdown",
   "metadata": {},
   "source": [
    "#### My solution follows\n",
    "\n",
    "Let's define the density of the building is (# apartment that lives people) / (# total appartment), ranging from 0 to 1. Since building 1 and building 2 are of the same type. The chance that there are more people in building 1 than in building 2, is same as the chance that the density of building 1 is larger than building 2.\n",
    "\n",
    "Next we will use Beta distribution to model the densities of both buildings and update them with collected data. To do this, we will first import the library we are going to use."
   ]
  },
  {
   "cell_type": "code",
   "execution_count": 2,
   "metadata": {
    "collapsed": false
   },
   "outputs": [],
   "source": [
    "from __future__ import print_function, division\n",
    "\n",
    "import numpy as np\n",
    "\n",
    "import thinkbayes2\n",
    "from thinkbayes2 import Pmf, Cdf, Suite\n",
    "import thinkplot\n",
    "\n",
    "% matplotlib inline"
   ]
  },
  {
   "cell_type": "markdown",
   "metadata": {},
   "source": [
    "And define the Beta class that we used to model the densities. "
   ]
  },
  {
   "cell_type": "code",
   "execution_count": 3,
   "metadata": {
    "collapsed": true
   },
   "outputs": [],
   "source": [
    "from scipy import special\n",
    "\n",
    "class Beta:\n",
    "    \"\"\"Represents a Beta distribution.\n",
    "\n",
    "    See http://en.wikipedia.org/wiki/Beta_distribution\n",
    "    \"\"\"\n",
    "    def __init__(self, alpha=1, beta=1, label=None):\n",
    "        \"\"\"Initializes a Beta distribution.\"\"\"\n",
    "        self.alpha = alpha\n",
    "        self.beta = beta\n",
    "        self.label = label if label is not None else '_nolegend_'\n",
    "\n",
    "    def Update(self, data):\n",
    "        \"\"\"Updates a Beta distribution.\n",
    "\n",
    "        data: pair of int (heads, tails)\n",
    "        \"\"\"\n",
    "        heads, tails = data\n",
    "        self.alpha += heads\n",
    "        self.beta += tails\n",
    "\n",
    "    def Mean(self):\n",
    "        \"\"\"Computes the mean of this distribution.\"\"\"\n",
    "        return self.alpha / (self.alpha + self.beta)\n",
    "\n",
    "    def MAP(self):\n",
    "        \"\"\"Computes the value with maximum a posteori probability.\"\"\"\n",
    "        a = self.alpha - 1\n",
    "        b = self.beta - 1\n",
    "        return a / (a + b)\n",
    "\n",
    "    def Random(self):\n",
    "        \"\"\"Generates a random variate from this distribution.\"\"\"\n",
    "        return random.betavariate(self.alpha, self.beta)\n",
    "\n",
    "    def Sample(self, n):\n",
    "        \"\"\"Generates a random sample from this distribution.\n",
    "\n",
    "        n: int sample size\n",
    "        \"\"\"\n",
    "        size = n,\n",
    "        return np.random.beta(self.alpha, self.beta, size)\n",
    "\n",
    "    def EvalPdf(self, x):\n",
    "        \"\"\"Evaluates the PDF at x.\"\"\"\n",
    "        return x ** (self.alpha - 1) * (1 - x) ** (self.beta - 1)\n",
    "\n",
    "    def MakePmf(self, steps=101, label=None):\n",
    "        \"\"\"Returns a Pmf of this distribution.\n",
    "\n",
    "        Note: Normally, we just evaluate the PDF at a sequence\n",
    "        of points and treat the probability density as a probability\n",
    "        mass.\n",
    "\n",
    "        But if alpha or beta is less than one, we have to be\n",
    "        more careful because the PDF goes to infinity at x=0\n",
    "        and x=1.  In that case we evaluate the CDF and compute\n",
    "        differences.\n",
    "\n",
    "        The result is a little funny, because the values at 0 and 1\n",
    "        are not symmetric.  Nevertheless, it is a reasonable discrete\n",
    "        model of the continuous distribution, and behaves well as\n",
    "        the number of values increases.\n",
    "        \"\"\"\n",
    "        if label is None and self.label is not None:\n",
    "            label = self.label\n",
    "\n",
    "        if self.alpha < 1 or self.beta < 1:\n",
    "            cdf = self.MakeCdf()\n",
    "            pmf = cdf.MakePmf()\n",
    "            return pmf\n",
    "\n",
    "        xs = [i / (steps - 1) for i in range(steps)]\n",
    "        probs = [self.EvalPdf(x) for x in xs]\n",
    "        pmf = Pmf(dict(zip(xs, probs)), label=label)\n",
    "        return pmf\n",
    "\n",
    "    def MakeCdf(self, steps=101):\n",
    "        \"\"\"Returns the CDF of this distribution.\"\"\"\n",
    "        xs = [i / (steps - 1) for i in range(steps)]\n",
    "        ps = special.betainc(self.alpha, self.beta, xs)\n",
    "        cdf = Cdf(xs, ps)\n",
    "        return cdf\n",
    "\n",
    "    def Percentile(self, ps):\n",
    "        \"\"\"Returns the given percentiles from this distribution.\n",
    "\n",
    "        ps: scalar, array, or list of [0-100]\n",
    "        \"\"\"\n",
    "        ps = np.asarray(ps) / 100\n",
    "        xs = special.betaincinv(self.alpha, self.beta, ps)\n",
    "        return xs"
   ]
  },
  {
   "cell_type": "markdown",
   "metadata": {},
   "source": [
    "We will first start with a uniform distibution."
   ]
  },
  {
   "cell_type": "code",
   "execution_count": 4,
   "metadata": {
    "collapsed": false
   },
   "outputs": [],
   "source": [
    "# Here's a uniform Beta distribution that represents building 1's\n",
    "# density\n",
    "\n",
    "b1 = Beta(1, 1, label='building 1')\n",
    "b1.Update((34, 16))\n",
    "\n",
    "# Here's a uniform Beta distribution that represents building 2's\n",
    "# density\n",
    "\n",
    "b2 = Beta(1, 1, label='building 2')\n",
    "b2.Update((18, 12))"
   ]
  },
  {
   "cell_type": "code",
   "execution_count": 5,
   "metadata": {
    "collapsed": false
   },
   "outputs": [
    {
     "data": {
      "image/png": "[encoded data removed]",
      "text/plain": [
       "<matplotlib.figure.Figure at 0x7f591f208790>"
      ]
     },
     "metadata": {},
     "output_type": "display_data"
    }
   ],
   "source": [
    "# Here's what the posteriors look like\n",
    "\n",
    "thinkplot.Pdf(b1.MakePmf())\n",
    "thinkplot.Pdf(b2.MakePmf())\n",
    "thinkplot.Config(xlabel='Density', ylabel='Probability')"
   ]
  },
  {
   "cell_type": "code",
   "execution_count": 6,
   "metadata": {
    "collapsed": false
   },
   "outputs": [
    {
     "data": {
      "text/plain": [
       "0.76619999999999999"
      ]
     },
     "execution_count": 6,
     "metadata": {},
     "output_type": "execute_result"
    }
   ],
   "source": [
    "# To estimate the probability of superiority, we can\n",
    "# draw samples from the posteriors and compare them\n",
    "\n",
    "b1_sample = b1.MakeCdf(10001).Sample(10000)\n",
    "b2_sample = b2.MakeCdf(10001).Sample(10000)\n",
    "np.mean(b1_sample > b2_sample)"
   ]
  },
  {
   "cell_type": "markdown",
   "metadata": {},
   "source": [
    "From the above models, bulding has around 77% chance to have a larger density than building 2. Now suppose that we add some assumption to our initial model: It's more likely that the density is around the center than it is around the two edges, and it's not possible that there is no people or no empty apartment at all in the building. Then we will choose a beta distribution that has higher probablity around 0.5, smaller value near the edge and the probablity for 0 and 1 is 0."
   ]
  },
  {
   "cell_type": "code",
   "execution_count": 7,
   "metadata": {
    "collapsed": false
   },
   "outputs": [
    {
     "data": {
      "image/png": "[encoded data removed]",
      "text/plain": [
       "<matplotlib.figure.Figure at 0x7f591cc49f10>"
      ]
     },
     "metadata": {},
     "output_type": "display_data"
    }
   ],
   "source": [
    "# Here's a Beta distribution that represents building 1's\n",
    "# density\n",
    "\n",
    "b1 = Beta(3, 3, label='building 1')\n",
    "thinkplot.Pdf(b1.MakePmf())\n",
    "\n",
    "# Here's a Beta distribution that represents building 2's\n",
    "# density\n",
    "\n",
    "b2 = Beta(3, 3, label='building 2')\n",
    "thinkplot.Pdf(b2.MakePmf())\n",
    "\n",
    "thinkplot.Config(xlabel='Density', ylabel='Probability')\n",
    "# Since both building have the same initial model, their pmf will overlap "
   ]
  },
  {
   "cell_type": "code",
   "execution_count": 8,
   "metadata": {
    "collapsed": false
   },
   "outputs": [
    {
     "data": {
      "image/png": "[encoded data removed]",
      "text/plain": [
       "<matplotlib.figure.Figure at 0x7f5950598510>"
      ]
     },
     "metadata": {},
     "output_type": "display_data"
    }
   ],
   "source": [
    "# We then update the new model and plot the updated model's posteriors\n",
    "b1.Update((34, 16))\n",
    "b2.Update((18, 12))\n",
    "\n",
    "thinkplot.Pdf(b1.MakePmf())\n",
    "thinkplot.Pdf(b2.MakePmf())\n",
    "thinkplot.Config(xlabel='Density', ylabel='Probability')"
   ]
  },
  {
   "cell_type": "code",
   "execution_count": 9,
   "metadata": {
    "collapsed": false
   },
   "outputs": [
    {
     "data": {
      "text/plain": [
       "0.77629999999999999"
      ]
     },
     "execution_count": 9,
     "metadata": {},
     "output_type": "execute_result"
    }
   ],
   "source": [
    "# To estimate the probability of superiority, we can\n",
    "# draw samples from the posteriors and compare them\n",
    "\n",
    "b1_sample = b1.MakeCdf(10001).Sample(10000)\n",
    "b2_sample = b2.MakeCdf(10001).Sample(10000)\n",
    "np.mean(b1_sample > b2_sample)"
   ]
  },
  {
   "cell_type": "markdown",
   "metadata": {},
   "source": [
    "As we can see, even if we change the initial model, the result is not too far away from the previous model's outcome. Building 1 still have around 77% chance to have a larger density."
   ]
  }
 ],
 "metadata": {
  "kernelspec": {
   "display_name": "Python [Root]",
   "language": "python",
   "name": "Python [Root]"
  },
  "language_info": {
   "codemirror_mode": {
    "name": "ipython",
    "version": 2
   },
   "file_extension": ".py",
   "mimetype": "text/x-python",
   "name": "python",
   "nbconvert_exporter": "python",
   "pygments_lexer": "ipython2",
   "version": "2.7.11"
  }
 },
 "nbformat": 4,
 "nbformat_minor": 0
}
