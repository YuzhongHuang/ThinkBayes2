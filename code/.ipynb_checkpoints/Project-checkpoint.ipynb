{
 "cells": [
  {
   "cell_type": "markdown",
   "metadata": {},
   "source": [
    "# Acorns and The Shuttle Waiter\n",
    "\n",
    "### Yuzhong Huang"
   ]
  },
  {
   "cell_type": "markdown",
   "metadata": {},
   "source": [
    "There is a large oak tree on campus. Under the oak tree, there is a shuttle stop. During Fall, acorns will start falling down from the tree, and some of them will hit people who are waiting for the shuttle. In order to get some insight on this process, we will further explore the relationship between waiting time, chances that people get hit by acorn, places that people are standing relative to the tree. \n",
    "\n",
    "Suppose the tree is modeled as a big circle of probablities with radius R. The person standing under the tree is modeled as a circle with radius r. Further assume that the rate of acorns falling down from the oak tree can be modeled as a Poisson process, and lambda is x acorn(s) fall(s) down every hour.\n",
    "\n",
    "Now try to use the assumptions described above to explore the following questions: Given a specific location under the tree, what is the distribution of acorns are you expected to fall down on you if you stand there for two hours? On average, people will wait shuttle for 15 mins since shuttle comes every half hour. So what is the chance that you will get hit by at least one acorn if you wait for the shuttle for 15 mins. If one of your friends tells you that he was hit by three acorn in one hour, guess where were your friend waiting. Suppose R = 30 feet, r = 2 feet and x = 120 acorns.  "
   ]
  },
  {
   "cell_type": "markdown",
   "metadata": {},
   "source": [
    "#### My solutions follows.\n",
    "\n",
    "### Uniform Distribution Model\n",
    "\n",
    "Let's start simple and suppose that the big circle of probablities of the oak tree is a uniform distribution. So our tree may looks like this:\n",
    "\n",
    "![alt text](http://images.travelpod.com/tw_slides/ta00/9b9/7a6/flat-topped-acacia-tree-in-the-serengetti-arusha.jpg \"Flat Tree\")"
   ]
  },
  {
   "cell_type": "markdown",
   "metadata": {},
   "source": [
    "Since the tree is modeled as an uniform distribution, it does not matter where the shuttle waiter is standing. Therefore, the lambda of acorn hits the shuttle waiter is just x * (r^2/R^2) = 8/15."
   ]
  },
  {
   "cell_type": "code",
   "execution_count": 3,
   "metadata": {
    "collapsed": true
   },
   "outputs": [],
   "source": [
    "from __future__ import print_function, division\n",
    "\n",
    "% matplotlib inline\n",
    "import warnings\n",
    "warnings.filterwarnings('ignore')\n",
    "\n",
    "import math\n",
    "import numpy as np\n",
    "\n",
    "from thinkbayes2 import Pmf, Cdf, Suite, Joint, MakePoissonPmf\n",
    "import thinkplot"
   ]
  },
  {
   "cell_type": "code",
   "execution_count": 44,
   "metadata": {
    "collapsed": false
   },
   "outputs": [
    {
     "data": {
      "image/png": "[encoded data removed]",
      "text/plain": [
       "<matplotlib.figure.Figure at 0x7fcee56f6ad0>"
      ]
     },
     "metadata": {},
     "output_type": "display_data"
    }
   ],
   "source": [
    "from scipy.stats import poisson\n",
    "\n",
    "pmf = MakePoissonPmf(8/15, high = 10)\n",
    "pmf += pmf\n",
    "thinkplot.Hist(pmf)\n",
    "thinkplot.Config(xlabel='Number of acorns',\n",
    "                 ylabel='PMF',\n",
    "                 xlim=[-0.5, 10.5])"
   ]
  },
  {
   "cell_type": "markdown",
   "metadata": {},
   "source": [
    "As shown in the figure above, it's most likely that the shuttle waiter will be hit by one acorns in the uniform model, if he waits for 2 hours. It's also likely that he will get hit by 2 acorns. But it's unlikely that he will be hit by more than 4 acorns."
   ]
  },
  {
   "cell_type": "markdown",
   "metadata": {},
   "source": [
    "Now let's take a look at the second question. What is the chance that the shuttle waiter will get hit if he waits for 15 mins. Let's first visualize the pdf of probablities in terms of hours."
   ]
  },
  {
   "cell_type": "code",
   "execution_count": 5,
   "metadata": {
    "collapsed": false
   },
   "outputs": [
    {
     "data": {
      "image/png": "[encoded data removed]",
      "text/plain": [
       "<matplotlib.figure.Figure at 0x7fcee64da0d0>"
      ]
     },
     "metadata": {},
     "output_type": "display_data"
    }
   ],
   "source": [
    "from thinkbayes2 import MakeExponentialPmf\n",
    "\n",
    "pmf = MakeExponentialPmf(lam=8/15, high=2.5)\n",
    "thinkplot.Pdf(pmf)\n",
    "thinkplot.Config(xlabel='Hours',\n",
    "                 ylabel='Probablities',\n",
    "                 xlim=[0, 2.5])"
   ]
  },
  {
   "cell_type": "markdown",
   "metadata": {},
   "source": [
    "In order to compute the chance that you will get hit by at least one acorn if you wait for the shuttle for 15 mins, we will use cdf function provided by scipy"
   ]
  },
  {
   "cell_type": "code",
   "execution_count": 6,
   "metadata": {
    "collapsed": false
   },
   "outputs": [
    {
     "data": {
      "text/plain": [
       "0.12482668095705254"
      ]
     },
     "execution_count": 6,
     "metadata": {},
     "output_type": "execute_result"
    }
   ],
   "source": [
    "from scipy.stats import expon\n",
    "\n",
    "expon.cdf(1/4, scale=15/8)"
   ]
  },
  {
   "cell_type": "markdown",
   "metadata": {},
   "source": [
    "The chance is higher than I expected since I personally have been waiting for shuttle more than 20 times, yet only get hit once."
   ]
  },
  {
   "cell_type": "markdown",
   "metadata": {},
   "source": [
    "For the third question, we cannot really guess where my friend is waiting since the uniform distribution assumes that all points within the circle have equal chances. But we can plot the probablity map just to visualize the equal chances."
   ]
  },
  {
   "cell_type": "code",
   "execution_count": 7,
   "metadata": {
    "collapsed": true
   },
   "outputs": [],
   "source": [
    "class OakTree(Suite, Joint):\n",
    "    \"\"\"Represents hypotheses about the location of person under the oak tree.\"\"\"\n",
    "\n",
    "    def __init__(self, r, person_r, lam):\n",
    "        \"\"\"Makes a joint suite of parameters x and y.\n",
    "\n",
    "        Enumerates all pairs of x and y.\n",
    "\n",
    "        r: radius of the tree\n",
    "        person_r: radius of the person\n",
    "        \"\"\"\n",
    "        self.r = r\n",
    "        self.person_r = person_r\n",
    "        self.lam = lam\n",
    "        \n",
    "        pairs = [(x, y) \n",
    "                 for x in range(2*r) \n",
    "                 for y in range(2*r)]\n",
    "        \n",
    "        Suite.__init__(self, pairs)\n",
    "        \n",
    "    def Likelihood(self, data, hypo):\n",
    "        \"\"\"Computes the likelihood of the data under the hypothesis.\n",
    "\n",
    "        hypo: pair of alpha, beta\n",
    "        data: location of a hit\n",
    "\n",
    "        Returns: float likelihood\n",
    "        \"\"\"\n",
    "        acorns, time = data\n",
    "        \n",
    "        x, y = hypo\n",
    "        r = self.r\n",
    "        x1 = x - r \n",
    "        y1 = y - r\n",
    "        \n",
    "        # area ratio of person relative to the tree\n",
    "        area_ratio = (self.person_r)*(self.person_r)/r*r\n",
    "        # likelihood is 1 or 0\n",
    "        like = ((x1*x1 + y1*y1) < r*r) * area_ratio\n",
    "        \n",
    "        like = poisson.pmf(acorns, self.lam * like * time)\n",
    "        \n",
    "        return like"
   ]
  },
  {
   "cell_type": "code",
   "execution_count": 8,
   "metadata": {
    "collapsed": false
   },
   "outputs": [
    {
     "data": {
      "image/png": "[encoded data removed]",
      "text/plain": [
       "<matplotlib.figure.Figure at 0x7fcee5fce090>"
      ]
     },
     "metadata": {},
     "output_type": "display_data"
    }
   ],
   "source": [
    "oak = OakTree(30, 2, 8/15)\n",
    "oak.Update((3, 1))\n",
    "\n",
    "thinkplot.Contour(oak.GetDict(), contour=False, pcolor=True)"
   ]
  },
  {
   "cell_type": "markdown",
   "metadata": {},
   "source": [
    "### Gussian Distribution model"
   ]
  },
  {
   "cell_type": "markdown",
   "metadata": {},
   "source": [
    "Since in real life, most oak tree looks more like this:\n",
    "\n",
    "![alt text](http://cdn.images.express.co.uk/img/dynamic/109/590x/Oak-tree-580618.jpg \"Oak Tree\")\n",
    "\n",
    "Which reminds me of the bell shape of Gussian distribution. \n",
    "\n",
    "![alt text](https://www.mathsisfun.com/data/images/normal-distrubution-large.gif \"Gussian Distribution\")\n",
    "\n",
    "Well, it does not look exactly the same. But it is a better model than the uniform distribution. And by playing around with normal distribution. we get a normal distribution, in which mu=30 and sigma=30. And the model looks like the following."
   ]
  },
  {
   "cell_type": "code",
   "execution_count": 9,
   "metadata": {
    "collapsed": false,
    "scrolled": true
   },
   "outputs": [
    {
     "data": {
      "image/png": "[encoded data removed]",
      "text/plain": [
       "<matplotlib.figure.Figure at 0x7fcee5ddb410>"
      ]
     },
     "metadata": {},
     "output_type": "display_data"
    }
   ],
   "source": [
    "from thinkbayes2 import MakeNormalPmf\n",
    "\n",
    "pmf = MakeNormalPmf(30, 30, num_sigmas=1, n=60) \n",
    "thinkplot.Pdf(pmf)"
   ]
  },
  {
   "cell_type": "markdown",
   "metadata": {},
   "source": [
    "We can convert the pmf to cdf as well"
   ]
  },
  {
   "cell_type": "code",
   "execution_count": 10,
   "metadata": {
    "collapsed": false
   },
   "outputs": [
    {
     "data": {
      "text/plain": [
       "{'xscale': 'linear', 'yscale': 'linear'}"
      ]
     },
     "execution_count": 10,
     "metadata": {},
     "output_type": "execute_result"
    },
    {
     "data": {
      "image/png": "[encoded data removed]",
      "text/plain": [
       "<matplotlib.figure.Figure at 0x7fcee5d75650>"
      ]
     },
     "metadata": {},
     "output_type": "display_data"
    }
   ],
   "source": [
    "cdf = pmf.MakeCdf()\n",
    "thinkplot.Cdf(cdf)"
   ]
  },
  {
   "cell_type": "markdown",
   "metadata": {},
   "source": [
    "Now let's make a OakTreeNormal class to represent the normal distribution model of oak tree. Note that the likelihood of certain locations only consider their distance to the center in the normal distribution model. Therefore the likelihood of certain distance loop is (cdf[distance + person_r] - cdf[distance - person_r]). As for the specific location, is just the area of person divided by the area of the loop "
   ]
  },
  {
   "cell_type": "code",
   "execution_count": 31,
   "metadata": {
    "collapsed": false
   },
   "outputs": [],
   "source": [
    "class OakTreeNormal(Suite, Joint):\n",
    "    \"\"\"Represents hypotheses about the location of person under the oak tree with normal distribution.\"\"\"\n",
    "\n",
    "    def __init__(self, r, person_r, lam):\n",
    "        \"\"\"Makes a joint suite of parameters x and y.\n",
    "\n",
    "        Enumerates all pairs of x and y.\n",
    "\n",
    "        r: radius of the tree\n",
    "        person_r: radius of the person\n",
    "        \"\"\"\n",
    "        self.r = r\n",
    "        self.person_r = person_r\n",
    "        self.lam = lam\n",
    "        \n",
    "        self.pmf = MakeNormalPmf(30, 30, num_sigmas=1, n=60)\n",
    "        self.cdf = self.pmf.MakeCdf()\n",
    "        \n",
    "        pairs = [(x, y) \n",
    "                 for x in np.linspace(0, 2*r, 20) \n",
    "                 for y in np.linspace(0, 2*r, 20)]\n",
    "        \n",
    "        Suite.__init__(self, pairs)\n",
    "        \n",
    "    def Likelihood(self, data, hypo):\n",
    "        \"\"\"Computes the likelihood of the data under the hypothesis.\n",
    "\n",
    "        hypo: pair of alpha, beta\n",
    "        data: location of a hit\n",
    "\n",
    "        Returns: float likelihood\n",
    "        \"\"\"\n",
    "        acorns, time = data\n",
    "        \n",
    "        x, y = hypo\n",
    "        r = self.r\n",
    "        \n",
    "        # compute the x1 and y1 respect to the center\n",
    "        x1 = x - r \n",
    "        y1 = y - r\n",
    "        \n",
    "        # compute the distance from the center \n",
    "        d = math.sqrt(x1*x1 + y1*y1)\n",
    "        \n",
    "        # the probablity of acorn hitting the person within the given distance is the area \n",
    "        # of the person divided by the area of the distance loop (no need for pi here since just need ratio)\n",
    "        area_ratio =  self.person_r*self.person_r / ((d+self.person_r)*(d+self.person_r) - (d-self.person_r)*(d-self.person_r)) \n",
    "        \n",
    "        # the chance that acorn will hit the person can be calculated by take the difference of their cdf\n",
    "        # and then times the area ratio\n",
    "        like = (self.cdf[30+d+self.person_r] - self.cdf[30+d-self.person_r]) * area_ratio \n",
    "        like = poisson.pmf(acorns, self.lam * like * time)\n",
    "        \n",
    "        return like"
   ]
  },
  {
   "cell_type": "markdown",
   "metadata": {},
   "source": [
    "Now let's answer the question: If one of your friends tells you that he was hit by three acorn in one hour, guess where were your friend waiting. We just need to initialize the object and then update with data (3,1)"
   ]
  },
  {
   "cell_type": "code",
   "execution_count": 37,
   "metadata": {
    "collapsed": false
   },
   "outputs": [
    {
     "data": {
      "image/png": "[encoded data removed]",
      "text/plain": [
       "<matplotlib.figure.Figure at 0x7fcee5a66290>"
      ]
     },
     "metadata": {},
     "output_type": "display_data"
    }
   ],
   "source": [
    "oak_normal = OakTreeNormal(30, 2, 8/15)\n",
    "oak_normal.Update((3, 1))\n",
    "\n",
    "thinkplot.Contour(oak_normal.GetDict(), contour=False, pcolor=True)"
   ]
  },
  {
   "cell_type": "markdown",
   "metadata": {},
   "source": [
    "As we can see from the graph, we can be very certain that the friend is standing under the center of the tree. Now let's see what if I wait for 4 hours and get 1 acorn."
   ]
  },
  {
   "cell_type": "code",
   "execution_count": 46,
   "metadata": {
    "collapsed": false
   },
   "outputs": [
    {
     "data": {
      "image/png": "[encoded data removed]",
      "text/plain": [
       "<matplotlib.figure.Figure at 0x7fcee5b9b250>"
      ]
     },
     "metadata": {},
     "output_type": "display_data"
    }
   ],
   "source": [
    "oak_normal = OakTreeNormal(30, 2, 8/15)\n",
    "oak_normal.Update((1, 4))\n",
    "\n",
    "thinkplot.Contour(oak_normal.GetDict(), contour=False, pcolor=True)"
   ]
  },
  {
   "cell_type": "markdown",
   "metadata": {},
   "source": [
    "Well, we still have a high probablity to stay around the center, But we can be pretty sure that my friend is not staying exactly on the center. Now what if my friend waits 4 hour and got nothing on his head."
   ]
  },
  {
   "cell_type": "code",
   "execution_count": 48,
   "metadata": {
    "collapsed": false
   },
   "outputs": [
    {
     "data": {
      "image/png": "[encoded data removed]",
      "text/plain": [
       "<matplotlib.figure.Figure at 0x7fcee6591510>"
      ]
     },
     "metadata": {},
     "output_type": "display_data"
    }
   ],
   "source": [
    "oak_normal = OakTreeNormal(30, 2, 8/15)\n",
    "oak_normal.Update((0, 4))\n",
    "\n",
    "thinkplot.Contour(oak_normal.GetDict(), contour=False, pcolor=True)"
   ]
  },
  {
   "cell_type": "markdown",
   "metadata": {},
   "source": [
    "In this case, we cannot say much except that my friend is unlikely to have stayed on the center. And it has a relatively high chance my friend is not even standing under the tree."
   ]
  }
 ],
 "metadata": {
  "kernelspec": {
   "display_name": "Python [Root]",
   "language": "python",
   "name": "Python [Root]"
  },
  "language_info": {
   "codemirror_mode": {
    "name": "ipython",
    "version": 2
   },
   "file_extension": ".py",
   "mimetype": "text/x-python",
   "name": "python",
   "nbconvert_exporter": "python",
   "pygments_lexer": "ipython2",
   "version": "2.7.11"
  }
 },
 "nbformat": 4,
 "nbformat_minor": 0
}
